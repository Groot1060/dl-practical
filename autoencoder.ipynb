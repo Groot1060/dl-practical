{
 "cells": [
  {
   "cell_type": "code",
   "execution_count": 3,
   "id": "e34d5b03-8e9c-4868-9203-6446a70cef23",
   "metadata": {},
   "outputs": [
    {
     "ename": "ModuleNotFoundError",
     "evalue": "No module named 'pandas'",
     "output_type": "error",
     "traceback": [
      "\u001b[1;31m---------------------------------------------------------------------------\u001b[0m",
      "\u001b[1;31mModuleNotFoundError\u001b[0m                       Traceback (most recent call last)",
      "Cell \u001b[1;32mIn[3], line 1\u001b[0m\n\u001b[1;32m----> 1\u001b[0m \u001b[38;5;28;01mimport\u001b[39;00m\t\u001b[38;5;21;01mpandas\u001b[39;00m\t\u001b[38;5;28;01mas\u001b[39;00m\t\u001b[38;5;21;01mpd\u001b[39;00m\n\u001b[0;32m      2\u001b[0m \u001b[38;5;28;01mimport\u001b[39;00m\t\u001b[38;5;21;01mnumpy\u001b[39;00m\t\u001b[38;5;28;01mas\u001b[39;00m\t\u001b[38;5;21;01mnp\u001b[39;00m\n\u001b[0;32m      3\u001b[0m \u001b[38;5;28;01mimport\u001b[39;00m\t\u001b[38;5;21;01mtensorflow\u001b[39;00m\t\u001b[38;5;28;01mas\u001b[39;00m\t\u001b[38;5;21;01mtf\u001b[39;00m\n",
      "\u001b[1;31mModuleNotFoundError\u001b[0m: No module named 'pandas'"
     ]
    }
   ],
   "source": [
    "import\tpandas\tas\tpd\n",
    "import\tnumpy\tas\tnp\n",
    "import\ttensorflow\tas\ttf\n",
    "import\tmatplotlib.pyplot\tas\tplt\n",
    "import\tseaborn\tas\tsns\n",
    "from\tsklearn.model_selection\timport\ttrain_test_split"
   ]
  },
  {
   "cell_type": "code",
   "execution_count": 4,
   "id": "5564daaf-0e0e-43ab-83d8-3fe77bbcd6cb",
   "metadata": {},
   "outputs": [
    {
     "ename": "SyntaxError",
     "evalue": "invalid syntax (2474501608.py, line 1)",
     "output_type": "error",
     "traceback": [
      "\u001b[1;36m  Cell \u001b[1;32mIn[4], line 1\u001b[1;36m\u001b[0m\n\u001b[1;33m    pip\tinstall\ttensorflow\t--user\u001b[0m\n\u001b[1;37m       \t^\u001b[0m\n\u001b[1;31mSyntaxError\u001b[0m\u001b[1;31m:\u001b[0m invalid syntax\n"
     ]
    }
   ],
   "source": [
    "pip\tinstall\ttensorflow\t--user\n",
    "!pip\tinstall\tkeras\n",
    "!pip\tinstall\tdaytime\n",
    "!pip\tinstall\ttorch"
   ]
  }
 ],
 "metadata": {
  "kernelspec": {
   "display_name": "Python 3 (ipykernel)",
   "language": "python",
   "name": "python3"
  },
  "language_info": {
   "codemirror_mode": {
    "name": "ipython",
    "version": 3
   },
   "file_extension": ".py",
   "mimetype": "text/x-python",
   "name": "python",
   "nbconvert_exporter": "python",
   "pygments_lexer": "ipython3",
   "version": "3.8.0"
  }
 },
 "nbformat": 4,
 "nbformat_minor": 5
}
